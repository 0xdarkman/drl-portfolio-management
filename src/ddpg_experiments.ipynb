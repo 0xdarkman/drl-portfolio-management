{
 "cells": [
  {
   "cell_type": "markdown",
   "metadata": {},
   "source": [
    "# Deep Deterministic Policy Gradient for Portfolio Management"
   ]
  },
  {
   "cell_type": "markdown",
   "metadata": {},
   "source": [
    "**Steps to try:**\n",
    "1. We first try to overfit a 3 stocks toy case using 3 years of training data.\n",
    "2. Try to generalize to other years of the same stock.\n",
    "3. Get some insigts on network topology and hyperparameter tuning.\n",
    "4. Increase the number of stocks. (Increase action space to more than 10.)\n",
    "\n",
    "**Possible improvement methods:**\n",
    "1. Use correlated action noise\n",
    "2. Use adaptive parameter noise\n",
    "\n",
    "**Figures to show:**\n",
    "1. Training: total rewards w.r.t episode\n",
    "2. How the model performs on training data\n",
    "3. How the model performs on testing data"
   ]
  },
  {
   "cell_type": "markdown",
   "metadata": {},
   "source": [
    "## Setup"
   ]
  },
  {
   "cell_type": "code",
   "execution_count": null,
   "metadata": {},
   "outputs": [],
   "source": [
    "import numpy as np\n",
    "from utils.data import read_stock_history, index_to_date, date_to_index\n",
    "import matplotlib.pyplot as plt\n",
    "# for compatible with python 3\n",
    "from __future__ import print_function\n",
    "%matplotlib inline\n",
    "%load_ext autoreload\n",
    "%autoreload 2"
   ]
  },
  {
   "cell_type": "code",
   "execution_count": null,
   "metadata": {},
   "outputs": [],
   "source": [
    "%qtconsole"
   ]
  },
  {
   "cell_type": "code",
   "execution_count": null,
   "metadata": {},
   "outputs": [],
   "source": [
    "# read the data and choose the target stocks for training a toy example\n",
    "history, abbreviation = read_stock_history(filepath='utils/datasets/stocks_history_target.h5')\n",
    "history = history[:, :, :4]\n",
    "target_stocks = ['AAPL', 'CMCSA', 'REGN']\n",
    "training_date_start = '2012-08-13'\n",
    "training_date_end = '2015-08-13'  # three years training data\n",
    "training_index_start = date_to_index(training_date_start)\n",
    "training_index_end = date_to_index(training_date_end)\n",
    "target_history = np.empty(shape=(len(target_stocks), training_index_end - training_index_start, history.shape[2]))\n",
    "for i, stock in enumerate(target_stocks):\n",
    "    target_history[i] = history[abbreviation.index(stock), training_index_start:training_index_end, :]"
   ]
  },
  {
   "cell_type": "code",
   "execution_count": null,
   "metadata": {},
   "outputs": [],
   "source": [
    "# collect testing data\n",
    "testing_date_start = '2015-08-13'\n",
    "testing_date_end = '2017-08-12'\n",
    "testing_index_start = date_to_index(testing_date_start)\n",
    "testing_index_end = date_to_index(testing_date_end)\n",
    "testing_history = np.empty(shape=(len(target_stocks), testing_index_end - testing_index_start, history.shape[2]))\n",
    "for i, stock in enumerate(target_stocks):\n",
    "    testing_history[i] = history[abbreviation.index(stock), testing_index_start:testing_index_end, :]"
   ]
  },
  {
   "cell_type": "code",
   "execution_count": null,
   "metadata": {},
   "outputs": [],
   "source": [
    "print(target_history.shape)\n",
    "print(testing_history.shape)"
   ]
  },
  {
   "cell_type": "code",
   "execution_count": null,
   "metadata": {},
   "outputs": [],
   "source": [
    "# visualize 3 stock open price\n",
    "date_list = [index_to_date(i) for i in range(target_history.shape[1])]\n",
    "x = range(target_history.shape[1])\n",
    "for i in range(len(target_stocks)):\n",
    "    plt.figure(i)\n",
    "    plt.plot(x, target_history[i, :, 1])  # open, high, low, close = [0, 1, 2, 3]\n",
    "    plt.xticks(x[::365], date_list[::365], rotation=30)\n",
    "    plt.title(target_stocks[i])\n",
    "    plt.show()"
   ]
  },
  {
   "cell_type": "code",
   "execution_count": null,
   "metadata": {},
   "outputs": [],
   "source": [
    "from environment.portfolio import PortfolioEnv"
   ]
  },
  {
   "cell_type": "code",
   "execution_count": null,
   "metadata": {},
   "outputs": [],
   "source": [
    "# instantiate environment, 3 stocks, no trading cost, window_length 50, start_date sample each time\n",
    "env = PortfolioEnv(target_history, target_stocks, trading_cost=0.0)\n",
    "from model.ddpg.ddpg import DDPG\n",
    "# instantiate DDPG model\n",
    "ddpg_model = DDPG(env=env)\n",
    "ddpg_model.build_model()"
   ]
  },
  {
   "cell_type": "code",
   "execution_count": null,
   "metadata": {},
   "outputs": [],
   "source": [
    "# starts to train the model, hopefully it would work\n",
    "ddpg_model.train(print_every_step=1, verbose=False, debug=False)"
   ]
  },
  {
   "cell_type": "code",
   "execution_count": null,
   "metadata": {},
   "outputs": [],
   "source": [
    "# evaluate the model with training data\n",
    "env = PortfolioEnv(target_history, target_stocks, trading_cost=0.0)\n",
    "observation, action = env.reset()\n",
    "done = False\n",
    "while not done:\n",
    "    action = ddpg_model.predict(observation, action)\n",
    "    action = np.squeeze(action, axis=0)\n",
    "    observation, _, done, _ = env.step(action)\n",
    "env._render()"
   ]
  },
  {
   "cell_type": "code",
   "execution_count": null,
   "metadata": {},
   "outputs": [],
   "source": [
    "# evaluate the model with unseen data from same stock\n",
    "env = PortfolioEnv(testing_history, target_stocks, steps=650, trading_cost=0.0, start_idx=testing_index_start)\n",
    "observation, action = env.reset()\n",
    "done = False\n",
    "while not done:\n",
    "    action = ddpg_model.predict(observation, action)\n",
    "    action = np.squeeze(action, axis=0)\n",
    "    observation, _, done, _ = env.step(action)\n",
    "env._render()"
   ]
  },
  {
   "cell_type": "code",
   "execution_count": null,
   "metadata": {},
   "outputs": [],
   "source": []
  }
 ],
 "metadata": {
  "kernelspec": {
   "display_name": "Python 2",
   "language": "python",
   "name": "python2"
  },
  "language_info": {
   "codemirror_mode": {
    "name": "ipython",
    "version": 2
   },
   "file_extension": ".py",
   "mimetype": "text/x-python",
   "name": "python",
   "nbconvert_exporter": "python",
   "pygments_lexer": "ipython2",
   "version": "2.7.14"
  }
 },
 "nbformat": 4,
 "nbformat_minor": 2
}
